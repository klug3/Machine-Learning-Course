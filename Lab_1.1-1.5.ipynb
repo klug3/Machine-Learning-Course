{
 "cells": [
  {
   "cell_type": "code",
   "execution_count": null,
   "metadata": {},
   "outputs": [],
   "source": [
    "# Uczenie maszynowe LAB1\n",
    "\n",
    "# Pytanie 1.1\n",
    "# Napisz funkcję kwadraty, która dla danej listy input_list zawierającej liczby zwraca nową listę output_list,\n",
    "# która zawiera kwadraty liczb dodatnich z input_list. Użyj list comprehension!\n",
    "\n",
    "def kwadraty(input_list):\n",
    "    output_list = [x*x for x in input_list if x > 0]\n",
    "    return output_list\n"
   ]
  },
  {
   "cell_type": "code",
   "execution_count": null,
   "metadata": {},
   "outputs": [],
   "source": [
    "# pytanie 1.2\n",
    "# Za pomocą jednowierszowego polecenia utwórz następującą macierz jako obiekt typu `numpy.array`:\n",
    "# M=[12⋯101112⋯20⋮⋮⋱⋮4142⋯50]\n",
    "# Wypisz ją na ekran. Macierz na 10 kolumn i pięć wierszy, wejścia to liczby od 1 do 50.\n",
    "\n",
    "import numpy as np\n",
    "x = np.arange(1, 51)\n",
    "x = x.reshape(5, 10)\n",
    "print(x)"
   ]
  },
  {
   "cell_type": "code",
   "execution_count": 13,
   "metadata": {},
   "outputs": [
    {
     "name": "stdout",
     "output_type": "stream",
     "text": [
      "[[ 0  1  2  3]\n",
      " [ 4  5  6  7]\n",
      " [ 8  9 10 11]\n",
      " [12 13 14 15]]\n",
      "[[-4 -2]\n",
      " [ 5  5]]\n",
      "[[0.5 0.3]\n",
      " [0.3 0.2]]\n"
     ]
    }
   ],
   "source": [
    "# Testy\n",
    "import numpy as np\n",
    "x = np.arange(16)\n",
    "x = x.reshape(4,4)\n",
    "print(x)\n",
    "\n",
    "A = np.array([[-4,-2],[5,5]])\n",
    "print(A)\n",
    "\n",
    "# np.inv(np.dot(A, A.T))\n",
    "B = np.linalg.inv(np.dot(A, A.T))\n",
    "print(B)"
   ]
  },
  {
   "cell_type": "code",
   "execution_count": null,
   "metadata": {},
   "outputs": [],
   "source": [
    "# Pytanie 1.3\n",
    "# Napisz funkcję, która dla danej macierzy zwróci jej:\n",
    "# liczbę elementów, kolumn i wierszy\n",
    "# wektory średnich po wierszach i kolumnach\n",
    "# kolumnę numer 2 - licząc od zera\n",
    "# wiersz numer 3 - licząc od zera\n",
    "\n",
    "def wlasciwosci_macierzy(A):\n",
    "    liczba_elementow = A.size\n",
    "    liczba_kolumn =  A.shape[1]\n",
    "    liczba_wierszy =  A.shape[0]\n",
    "    srednie_wg_wierszy =  A.mean(axis=1)\n",
    "    srednie_wg_kolumn =  A.mean(axis=0)\n",
    "    kolumna_2 =  A[:,2]\n",
    "    wiersz_3 =  A[3,:]\n",
    "    return (\n",
    "        liczba_elementow, liczba_kolumn, liczba_wierszy, \n",
    "        srednie_wg_wierszy, srednie_wg_kolumn,\n",
    "        kolumna_2, wiersz_3)"
   ]
  },
  {
   "cell_type": "code",
   "execution_count": null,
   "metadata": {},
   "outputs": [],
   "source": [
    "# Napisz funkcje, które obliczą:\n",
    "# iloczyn macierzy A z wektorem x \n",
    "# iloczyn macierzy A⋅B\n",
    "# macierz odwrotną (A⋅AT)−1\n",
    "# wynik działania (A⋅B)T−BT⋅AT\n",
    "# Przyjmij, że macierze i wektory wejściowe reprezento\n",
    "\n",
    "def dzialanie1(A, x):\n",
    "    \"\"\" iloczyn macierzy A z wektorem x \"\"\"\n",
    "    return np.dot(A, x)\n",
    "\n",
    "def dzialanie2(A, B):\n",
    "    \"\"\" iloczyn macierzy A · B \"\"\"\n",
    "    return np.dot(A, B)\n",
    "\n",
    "def dzialanie3(A):\n",
    "    \"\"\" odwrotność iloczynu A · A.T \"\"\"\n",
    "    return np.linalg.inv(np.dot(A, A.T))\n",
    "\n",
    "def dzialanie4(A, B):\n",
    "    \"\"\" wynik działania (A · B)^T - B^T · A^T \"\"\"\n",
    "    return np.dot(A, B).T - (np.dot(B.T, A.T))"
   ]
  },
  {
   "cell_type": "code",
   "execution_count": null,
   "metadata": {},
   "outputs": [],
   "source": []
  }
 ],
 "metadata": {
  "kernelspec": {
   "display_name": "Python 3",
   "language": "python",
   "name": "python3"
  },
  "language_info": {
   "codemirror_mode": {
    "name": "ipython",
    "version": 3
   },
   "file_extension": ".py",
   "mimetype": "text/x-python",
   "name": "python",
   "nbconvert_exporter": "python",
   "pygments_lexer": "ipython3",
   "version": "3.8.3"
  }
 },
 "nbformat": 4,
 "nbformat_minor": 4
}
