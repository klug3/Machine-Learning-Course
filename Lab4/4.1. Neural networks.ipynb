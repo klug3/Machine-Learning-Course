{
 "cells": [
  {
   "cell_type": "markdown",
   "metadata": {},
   "source": [
    "9-pikselowy aparat fotograficzny\r\n",
    "\r\n",
    "Proszę przypomnieć sobie z wykładu model 4-pikselowego aparatu (https://git.wmi.amu.edu.pl/pms/zuma/src/branch/master/wyk/4_Sieci_neuronowe.ipynb,  końcówka wykładu).\r\n",
    "Warto też zapoznać się z polecanym na wykładzie filmikiem \r\n",
    "\r\n",
    "https://youtu.be/ILsA4nyG7I0\r\n",
    "\r\n",
    "W analogiczny sposób, wykorzystując fragmenty zalinkowanego kodu, skonstruować model dla 9-pikselowego aparatu. Klasy mogą pozostać te same  ('s', 'v', 'd', 'h'), natomiast zmieni się możliwość ich realizacji (np. dla 'd' będziemy mieć dwa możliwe ułożenia przekątnej i dwie możliwości wyboru koloru). Będzie zatem trzeba w funkcji generującej zbiór danych dodać/zmienić zmienne losowe. Dostosować też będzie trzeba architekturę sieci.\r\n",
    "\r\n",
    "Edit: w ramach realizacji zadania proszę wypróbować różne architektury sieci: liczba warstw, neuronów w warstwie, funkcja aktywacji. Proszę spróbować ustawić początkowe wagi dla przynajmniej jednej warstwy - sprawdzić jak to wpłynie na rezultaty i szybkość uczenia się sieci.\r\n",
    "Problem, który sieć rozwiązuje, jest matematycznie jednoznaczny, dlatego po krótkiej zabawie parametrami (albo i wcześniej) sieć powinna mieć accuracy 100%."
   ]
  },
  {
   "cell_type": "code",
   "execution_count": 1,
   "metadata": {},
   "outputs": [],
   "source": [
    "from tensorflow import keras\n",
    "from tensorflow.keras.layers import Dense, Dropout, Flatten\n",
    "from matplotlib import pyplot as plt\n",
    "import numpy as np\n",
    "import random\n",
    "import pandas as pd\n",
    "import matplotlib.pyplot as plt"
   ]
  },
  {
   "cell_type": "code",
   "execution_count": 2,
   "metadata": {},
   "outputs": [],
   "source": [
    "\n",
    "def draw_examples(examples, captions=None):\n",
    "    plt.figure(figsize=(16, 4))\n",
    "    m = len(examples)\n",
    "    for i, example in enumerate(examples):\n",
    "        plt.subplot(100 + m * 10 + i + 1)\n",
    "        plt.imshow(example, cmap=plt.get_cmap('gray'))\n",
    "    plt.show()\n",
    "    if captions is not None:\n",
    "        print(6 * ' ' + (10 * ' ').join(str(captions[i]) for i in range(m)))"
   ]
  },
  {
   "cell_type": "code",
   "execution_count": 3,
   "metadata": {},
   "outputs": [],
   "source": [
    "def generate_example(description):\n",
    "    variant = random.choice([3, 2, 1, -1, -2, -3])\n",
    "    variant2 = random.choice([2, 1, -1, -2])\n",
    "    if description == 's':  # solid\n",
    "        return (np.array([[1.0,  1.0, 1.0], [1.0,  1.0, 1.0], [1.0,  1.0, 1.0]]) if variant > 0 else\n",
    "                np.array([[-1.0, -1.0, -1.0], [-1.0, -1.0, -1.0], [-1.0, -1.0, -1.0]]))\n",
    "    elif description == 'v':  # vertical\n",
    "        if variant == 1:\n",
    "            return np.array([[1.0, -1.0, -1.0], [1.0, -1.0, -1.0], [1.0, -1.0, -1.0]])\n",
    "        elif variant == 2:        \n",
    "            return np.array([[-1.0, 1.0, -1.0], [-1.0, 1.0, -1.0], [-1.0, 1.0, -1.0]])\n",
    "        elif variant == 3:\n",
    "            return np.array([[-1.0, -1.0, 1.0], [-1.0, -1.0, 1.0], [-1.0, -1.0, 1.0]])\n",
    "        elif variant == -1:\n",
    "            return np.array([[-1.0, 1.0, 1.0], [-1.0, 1.0, 1.0], [-1.0, 1.0, 1.0]])\n",
    "        elif variant == -2:\n",
    "            return np.array([[1.0, -1.0, 1.0], [1.0, -1.0, 1.0], [1.0, -1.0, 1.0]])\n",
    "        elif variant == -3:\n",
    "            return np.array([[1.0, 1.0, -1.0], [1.0, 1.0, -1.0], [1.0, 1.0, -1.0]])\n",
    "    elif description == 'd':  # diagonal\n",
    "        if variant2 == 1:\n",
    "            return np.array([[1.0, -1.0, -1.0], [-1.0,  1.0, -1.0], [-1.0,  -1.0, 1.0]])\n",
    "        elif variant2 == 2:\n",
    "            return np.array([[-1.0, -1.0, 1.0], [-1.0,  1.0, -1.0], [1.0,  -1.0, -1.0]])\n",
    "        elif variant2 == -1:\n",
    "            return np.array([[-1.0, 1.0, 1.0], [1.0,  -1.0, 1.0], [1.0,  1.0, -1.0]])\n",
    "        elif variant2 == -2:\n",
    "            return np.array([[1.0, 1.0, -1.0], [1.0,  -1.0, 1.0], [-1.0,  1.0, 1.0]])\n",
    "    elif description == 'h':  # horizontal\n",
    "        if variant == 1:\n",
    "            return np.array([[1.0, 1.0, 1.0], [-1.0, -1.0, -1.0], [-1.0, -1.0, -1.0]])\n",
    "        elif variant == 2:        \n",
    "            return np.array([[-1.0, -1.0, -1.0], [1.0, 1.0, 1.0], [-1.0, -1.0, -1.0]])\n",
    "        elif variant == 3:\n",
    "            return np.array([[-1.0, -1.0, -1.0], [-1.0, -1.0, -1.0], [1.0, 1.0, 1.0]])\n",
    "        elif variant == -1:\n",
    "            return np.array([[-1.0, -1.0, -1.0], [1.0, 1.0, 1.0], [1.0, 1.0, 1.0]])\n",
    "        elif variant == -2:\n",
    "            return np.array([[1.0, 1.0, 1.0], [-1.0, -1.0, -1.0], [1.0, 1.0, 1.0]])\n",
    "        elif variant == -3:\n",
    "            return np.array([[1.0, 1.0, 1.0], [1.0, 1.0, 1.0], [-1.0, -1.0, -1.0]])\n",
    "    else:\n",
    "        return np.array([[random.uniform(-1, 1), random.uniform(-1, 1), random.uniform(-1, 1)],\n",
    "                         [random.uniform(-1, 1), random.uniform(-1, 1), random.uniform(-1, 1)]])"
   ]
  },
  {
   "cell_type": "code",
   "execution_count": 4,
   "metadata": {},
   "outputs": [],
   "source": [
    "num_classes = 4\n",
    "\n",
    "trainset_size = 4000\n",
    "testset_size = 1000\n",
    "\n",
    "y_train = np.array([random.choice(['s', 'v', 'd', 'h']) for i in range(trainset_size)])\n",
    "x_train = np.array([generate_example(desc) for desc in y_train])\n",
    "\n",
    "y_test = np.array([random.choice(['s', 'v', 'd', 'h']) for i in range(testset_size)])\n",
    "x_test = np.array([generate_example(desc) for desc in y_test])"
   ]
  },
  {
   "cell_type": "code",
   "execution_count": 5,
   "metadata": {},
   "outputs": [
    {
     "data": {
      "image/png": "[encoded data removed]",
      "text/plain": [
       "<Figure size 1152x288 with 7 Axes>"
      ]
     },
     "metadata": {
      "needs_background": "light"
     },
     "output_type": "display_data"
    },
    {
     "name": "stdout",
     "output_type": "stream",
     "text": [
      "      d          d          d          v          d          d          s\n"
     ]
    }
   ],
   "source": [
    "draw_examples(x_train[:7], captions=y_train)"
   ]
  },
  {
   "cell_type": "code",
   "execution_count": 6,
   "metadata": {},
   "outputs": [],
   "source": [
    "x_train = x_train.reshape(trainset_size, 9)\n",
    "x_test = x_test.reshape(testset_size, 9)\n",
    "x_train = x_train.astype('float32')\n",
    "x_test = x_test.astype('float32')\n",
    "\n",
    "y_train = np.array([{'s': 0, 'v': 1, 'd': 2, 'h': 3}[desc] for desc in y_train])\n",
    "y_test = np.array([{'s': 0, 'v': 1, 'd': 2, 'h': 3}[desc] for desc in y_test])\n",
    "\n",
    "y_train = keras.utils.to_categorical(y_train, num_classes)\n",
    "y_test = keras.utils.to_categorical(y_test, num_classes)"
   ]
  },
  {
   "cell_type": "code",
   "execution_count": 7,
   "metadata": {},
   "outputs": [
    {
     "name": "stdout",
     "output_type": "stream",
     "text": [
      "Model: \"sequential\"\n",
      "_________________________________________________________________\n",
      "Layer (type)                 Output Shape              Param #   \n",
      "=================================================================\n",
      "dense (Dense)                (None, 100)               1000      \n",
      "_________________________________________________________________\n",
      "dense_1 (Dense)              (None, 50)                5050      \n",
      "_________________________________________________________________\n",
      "dense_2 (Dense)              (None, 30)                1530      \n",
      "_________________________________________________________________\n",
      "dense_3 (Dense)              (None, 18)                558       \n",
      "_________________________________________________________________\n",
      "dense_4 (Dense)              (None, 4)                 76        \n",
      "=================================================================\n",
      "Total params: 8,214\n",
      "Trainable params: 8,214\n",
      "Non-trainable params: 0\n",
      "_________________________________________________________________\n"
     ]
    }
   ],
   "source": [
    "model = keras.Sequential()\n",
    "model.add(Dense(100, activation='tanh', input_shape=(9,)))\n",
    "model.add(Dense(50, activation='tanh'))\n",
    "model.add(Dense(30, activation='relu'))\n",
    "model.add(Dense(18, activation='relu'))\n",
    "model.add(Dense(num_classes, activation='softmax'))\n",
    "model.summary()"
   ]
  },
  {
   "cell_type": "code",
   "execution_count": 8,
   "metadata": {},
   "outputs": [
    {
     "data": {
      "text/plain": [
       "[<tensorflow.python.keras.layers.core.Dense at 0x225d5a44b20>,\n",
       " <tensorflow.python.keras.layers.core.Dense at 0x225d5a44070>,\n",
       " <tensorflow.python.keras.layers.core.Dense at 0x225d5aa0ca0>,\n",
       " <tensorflow.python.keras.layers.core.Dense at 0x225d5c70dc0>,\n",
       " <tensorflow.python.keras.layers.core.Dense at 0x225d5c93b80>]"
      ]
     },
     "execution_count": 8,
     "metadata": {},
     "output_type": "execute_result"
    }
   ],
   "source": [
    "model.layers"
   ]
  },
  {
   "cell_type": "code",
   "execution_count": 9,
   "metadata": {},
   "outputs": [
    {
     "data": {
      "text/plain": [
       "'dense'"
      ]
     },
     "execution_count": 9,
     "metadata": {},
     "output_type": "execute_result"
    }
   ],
   "source": [
    "hidden1 = model.layers[0]\n",
    "hidden1.name"
   ]
  },
  {
   "cell_type": "code",
   "execution_count": 10,
   "metadata": {},
   "outputs": [
    {
     "data": {
      "text/plain": [
       "array([[ 0.20685486,  0.18078275,  0.19417189,  0.01896809, -0.1811312 ,\n",
       "         0.1576974 ,  0.00612392, -0.12502176,  0.1796125 , -0.10635997,\n",
       "         0.04589431, -0.06922239,  0.05061905,  0.06163858,  0.09057014,\n",
       "         0.05591331, -0.08309852,  0.19265912, -0.0391812 ,  0.06508695,\n",
       "        -0.1311709 ,  0.11974867, -0.04719418,  0.1837941 , -0.00197756,\n",
       "         0.14640255, -0.13960168,  0.22974871, -0.14851862, -0.00164713,\n",
       "        -0.13274102, -0.05961531,  0.0360585 , -0.03863771, -0.17095086,\n",
       "        -0.04844791,  0.19023685,  0.10988514,  0.20349608,  0.21517886,\n",
       "         0.0429544 ,  0.10030217,  0.12162496,  0.1215234 ,  0.16123106,\n",
       "         0.114435  , -0.02382565, -0.00239193, -0.09470055,  0.06319   ,\n",
       "        -0.12944569, -0.2024872 , -0.09907793,  0.0733446 , -0.01348378,\n",
       "        -0.04561502,  0.16594039, -0.20978609, -0.05061632,  0.11731307,\n",
       "        -0.16446151,  0.05878063, -0.01977724, -0.0748539 ,  0.11034356,\n",
       "         0.15521969,  0.03492261,  0.00282484,  0.00295405,  0.00540054,\n",
       "        -0.1396913 , -0.18930495,  0.10173132, -0.18069382,  0.21308719,\n",
       "        -0.16457993,  0.1759469 ,  0.02604111, -0.07297361,  0.16355504,\n",
       "         0.07258047,  0.11585791, -0.03873946, -0.08930819,  0.05511491,\n",
       "        -0.05469522,  0.10538314,  0.01343007, -0.12821585,  0.06048681,\n",
       "         0.15172662, -0.12945251,  0.05282055, -0.21409345,  0.1636069 ,\n",
       "         0.08832715, -0.23014525,  0.04589923, -0.1918774 , -0.16715938],\n",
       "       [ 0.13220982, -0.04441386, -0.21950264, -0.0187387 ,  0.21832277,\n",
       "         0.14730959, -0.06543632, -0.17316185, -0.09351714, -0.17261639,\n",
       "        -0.04358722,  0.11022581, -0.11462725,  0.13473184, -0.15288487,\n",
       "         0.07553314, -0.12108047,  0.22470169, -0.05871937, -0.22786383,\n",
       "         0.14684938,  0.14199121,  0.18014921,  0.05028377, -0.02600162,\n",
       "        -0.08498785,  0.11135943, -0.041559  , -0.00423424, -0.11060003,\n",
       "        -0.13289133,  0.2194088 ,  0.15168105, -0.1201052 ,  0.22483845,\n",
       "         0.03961281, -0.03683625,  0.14124267,  0.02752216,  0.18270914,\n",
       "         0.1460497 , -0.14028782,  0.19473882, -0.1062151 , -0.0807144 ,\n",
       "         0.17368184, -0.09529936, -0.07689914,  0.22714458,  0.18556686,\n",
       "        -0.07376312,  0.01404023, -0.0011729 , -0.15522149,  0.19076805,\n",
       "         0.12032308,  0.04668073,  0.04894795,  0.21087717,  0.16208751,\n",
       "        -0.22297491, -0.07904524, -0.05233684,  0.01986612,  0.1696878 ,\n",
       "         0.14226599,  0.04303826, -0.07942566,  0.1689284 , -0.00105543,\n",
       "        -0.13603869,  0.11959325,  0.18422203, -0.21077478,  0.21323328,\n",
       "        -0.07585137,  0.10264765,  0.03355061,  0.15829699, -0.00336413,\n",
       "         0.05267297,  0.15411986,  0.09167622, -0.19985278, -0.13399296,\n",
       "         0.17031272,  0.10213168, -0.13040972,  0.2223569 ,  0.04853652,\n",
       "         0.19449683,  0.15020518, -0.20235346,  0.18051185,  0.21167152,\n",
       "        -0.02815001,  0.21546431, -0.05238539, -0.02886802, -0.15325002],\n",
       "       [-0.18577345, -0.11954627, -0.1618396 ,  0.1782055 , -0.10624614,\n",
       "         0.02402736,  0.08463578, -0.19813511,  0.07693683, -0.22210574,\n",
       "         0.17233844, -0.09702636, -0.17651469,  0.00066571, -0.08395201,\n",
       "        -0.14686623,  0.06455301, -0.10179582,  0.15681614, -0.20081216,\n",
       "         0.00469209, -0.13813865,  0.01671745,  0.08011262,  0.01370668,\n",
       "         0.0928389 , -0.21407403, -0.04839012,  0.13872392,  0.09121151,\n",
       "        -0.14865287,  0.17800222,  0.09001909,  0.15718068, -0.13467398,\n",
       "         0.00186428, -0.22058794,  0.05000682,  0.20436312, -0.01062816,\n",
       "         0.05779622, -0.03494702, -0.14229915,  0.05494626,  0.04771103,\n",
       "        -0.22646272, -0.0521192 , -0.04979807,  0.10832407,  0.0810786 ,\n",
       "         0.0378934 , -0.21409686,  0.22839989, -0.11386583, -0.1815463 ,\n",
       "        -0.16054472, -0.08912203,  0.00856715,  0.1275738 ,  0.10976376,\n",
       "         0.22591306, -0.119384  ,  0.04114611, -0.16263106,  0.00688119,\n",
       "         0.00982004, -0.22976738, -0.16870603, -0.04432057, -0.21032728,\n",
       "         0.1241356 , -0.15054433,  0.039988  , -0.04145943, -0.21607614,\n",
       "         0.060109  , -0.07752261,  0.14195384, -0.10667038,  0.23349561,\n",
       "        -0.07844855,  0.17167513,  0.02933402,  0.03108095, -0.08790572,\n",
       "         0.10375543,  0.1127177 , -0.03315495, -0.04363589, -0.00534846,\n",
       "        -0.20725083,  0.12672125,  0.12865843, -0.12605044, -0.15123482,\n",
       "        -0.20652118, -0.15573364,  0.08074109,  0.12956859,  0.02977951],\n",
       "       [ 0.00218922, -0.00241633,  0.0201043 , -0.09694946,  0.05580206,\n",
       "         0.0880342 , -0.01740755, -0.18918109,  0.10134865, -0.09721778,\n",
       "         0.1601315 , -0.19551438,  0.14078845,  0.02858524, -0.05920987,\n",
       "         0.01656045,  0.13382424,  0.03240331,  0.02844445,  0.14623307,\n",
       "         0.18537529,  0.07413359, -0.08810021,  0.15361895,  0.15029548,\n",
       "        -0.09151654,  0.08729012, -0.23419489,  0.1877944 , -0.17700419,\n",
       "         0.1491464 , -0.11065927,  0.08855782,  0.09202568, -0.08716449,\n",
       "        -0.10974178,  0.14494063,  0.13913824, -0.2004686 , -0.0391774 ,\n",
       "        -0.11374824, -0.09570518,  0.22071056,  0.1051123 ,  0.22508167,\n",
       "        -0.14367768, -0.11371144, -0.00165318,  0.15274827,  0.11648028,\n",
       "        -0.00302801,  0.08324505,  0.05891241,  0.01451923, -0.03298368,\n",
       "         0.03440733,  0.00216937,  0.02517195, -0.13605122,  0.13793592,\n",
       "        -0.23184423,  0.10444026,  0.2171653 ,  0.14011894,  0.17478172,\n",
       "         0.08560385,  0.20509027, -0.05378439, -0.02208471,  0.06807382,\n",
       "        -0.2273373 , -0.00095625, -0.10788561,  0.12199242,  0.21136884,\n",
       "         0.14094307,  0.1822701 , -0.15174922, -0.11473023, -0.02468485,\n",
       "         0.22003557, -0.10406213,  0.16315241, -0.09340721, -0.19397393,\n",
       "         0.10653315, -0.05575053, -0.04855855, -0.06918912,  0.05681844,\n",
       "         0.15686952,  0.11258163, -0.0774976 ,  0.14179511,  0.03671239,\n",
       "         0.03090678,  0.20708941, -0.21942233,  0.2168832 ,  0.12936021],\n",
       "       [-0.11484183,  0.16555135, -0.03440236,  0.05152749,  0.01881053,\n",
       "         0.13689397,  0.17861848, -0.1722075 , -0.02728203, -0.12716714,\n",
       "         0.15314178,  0.10673057, -0.10178967,  0.14627747, -0.22758493,\n",
       "        -0.09920859,  0.18522508,  0.18352969, -0.04204994,  0.20397039,\n",
       "         0.17688145, -0.06248903, -0.0108192 ,  0.08711822, -0.19117062,\n",
       "         0.15988828, -0.00839722,  0.09797619, -0.18607242, -0.09331179,\n",
       "         0.1021442 ,  0.10210012, -0.16317925,  0.06911467, -0.2338964 ,\n",
       "        -0.09022605,  0.03526761,  0.16602053, -0.20259841,  0.09837838,\n",
       "        -0.09031421, -0.07757653,  0.22204708,  0.08009021,  0.03810288,\n",
       "        -0.16773787,  0.03328662,  0.10562591, -0.10740371,  0.15605809,\n",
       "         0.12082283,  0.06903495, -0.04348503,  0.06862091,  0.06558703,\n",
       "         0.16783924, -0.14052197,  0.04421131, -0.10675892, -0.03331292,\n",
       "        -0.07363686, -0.10730784,  0.21861435, -0.05626437,  0.17896368,\n",
       "         0.17474224,  0.04681234,  0.07130416, -0.13622497,  0.02507858,\n",
       "        -0.08114283,  0.0724691 , -0.04462218,  0.03367455, -0.15154874,\n",
       "         0.01838155, -0.13590512, -0.06823975, -0.20000197,  0.0441405 ,\n",
       "        -0.14475107, -0.15534666, -0.13789487, -0.00286898, -0.14688838,\n",
       "        -0.18636335,  0.06357567, -0.20134743, -0.01326337, -0.02676801,\n",
       "        -0.03180188, -0.22624512, -0.07380915, -0.10710518, -0.09647208,\n",
       "        -0.10652399, -0.09137037,  0.12901531,  0.05203266,  0.0586821 ],\n",
       "       [-0.04638997,  0.22756474,  0.01861636,  0.2060544 ,  0.12962855,\n",
       "         0.00217244, -0.20628156, -0.07493176,  0.16095732, -0.0906754 ,\n",
       "         0.19978298,  0.20793988,  0.15721066,  0.09294172, -0.13658571,\n",
       "         0.03524528,  0.12668703, -0.0840165 ,  0.17230015,  0.06499167,\n",
       "        -0.02974853,  0.204735  ,  0.09225424, -0.19278224, -0.20658524,\n",
       "         0.11063577,  0.11624254, -0.14455153,  0.12092657,  0.11629249,\n",
       "         0.13679989, -0.02184568, -0.1584413 ,  0.13477682, -0.14354326,\n",
       "        -0.15788859,  0.06907515,  0.18798928,  0.08223148,  0.08923982,\n",
       "         0.23428388,  0.04642598, -0.10407214, -0.05680306, -0.15559766,\n",
       "        -0.0779973 , -0.08363831, -0.22391225,  0.17325516,  0.00625235,\n",
       "         0.19776626,  0.14177905, -0.2116807 , -0.00777055,  0.0908996 ,\n",
       "        -0.01916936,  0.11762829,  0.04560415,  0.07681893,  0.2257763 ,\n",
       "        -0.03569189,  0.16514786,  0.09100778,  0.13618334, -0.04775736,\n",
       "         0.1277711 ,  0.0131835 , -0.07139456,  0.04418235,  0.10822995,\n",
       "        -0.07421498,  0.173696  ,  0.0279762 ,  0.05159964, -0.01395415,\n",
       "         0.02559809,  0.08372782, -0.02723123,  0.09441163, -0.06691951,\n",
       "         0.08287229,  0.05121587,  0.13463216, -0.05673856,  0.00167404,\n",
       "         0.23178543,  0.12982745,  0.21523573, -0.0727026 ,  0.00637066,\n",
       "        -0.06874134,  0.09271707,  0.23076625,  0.1402797 , -0.17924565,\n",
       "         0.2128437 , -0.23449634,  0.17959492,  0.14495172, -0.13942638],\n",
       "       [-0.04905197, -0.02132744,  0.1426199 ,  0.01546498,  0.00617197,\n",
       "         0.12704049,  0.13427438, -0.08756472, -0.15021849,  0.09314041,\n",
       "         0.00305608,  0.05432241, -0.20738152, -0.20585738,  0.18896903,\n",
       "        -0.16043037, -0.14239353,  0.11579926,  0.02687816, -0.2039987 ,\n",
       "         0.07468592,  0.11388747, -0.15485302, -0.02951577, -0.00411588,\n",
       "        -0.10470685,  0.13736694,  0.13436987,  0.05625133, -0.01165187,\n",
       "         0.11278658,  0.07560898, -0.14451249, -0.2059343 , -0.1026652 ,\n",
       "        -0.13327366,  0.05941658,  0.05621438,  0.02006359,  0.23178492,\n",
       "        -0.10556321,  0.10097153,  0.22614588, -0.1297535 ,  0.0318463 ,\n",
       "        -0.02680801,  0.18416668,  0.12603797, -0.13116945,  0.06222869,\n",
       "         0.15978839,  0.20510425, -0.04586108, -0.06485189,  0.01214682,\n",
       "        -0.01297435,  0.03188874,  0.17843111, -0.08763705, -0.16330573,\n",
       "        -0.05384733,  0.21988262,  0.20050697, -0.03724883,  0.10780339,\n",
       "        -0.16575176,  0.22376849,  0.06486084, -0.17606696, -0.05581671,\n",
       "        -0.16801085, -0.13008639, -0.11415268,  0.14834256, -0.190063  ,\n",
       "        -0.16949335,  0.15427716,  0.22712658, -0.08706084, -0.15610653,\n",
       "        -0.16422272,  0.02939405,  0.11517067, -0.11123744,  0.04295881,\n",
       "         0.15572105,  0.19136007,  0.00660056,  0.00815198, -0.19550465,\n",
       "         0.04128306,  0.02894364, -0.02828974,  0.19772737, -0.10414469,\n",
       "        -0.02008814,  0.0380743 , -0.18328735,  0.22508503, -0.20251653],\n",
       "       [ 0.10393889,  0.00068791,  0.04350103,  0.06504618, -0.06156814,\n",
       "         0.09469719,  0.11373724, -0.168417  ,  0.16282023,  0.0760193 ,\n",
       "         0.01730834, -0.05160546,  0.22418348,  0.17365338,  0.02086113,\n",
       "        -0.12022837,  0.04222105,  0.14945255,  0.10074975,  0.17788671,\n",
       "         0.0040257 ,  0.10691689,  0.00300759,  0.02141123, -0.12978786,\n",
       "        -0.0577282 ,  0.14342703, -0.07744525, -0.21597238, -0.13621949,\n",
       "        -0.06677933, -0.19120513, -0.07767728,  0.04217379,  0.1430604 ,\n",
       "         0.03461616, -0.00375894, -0.2294176 ,  0.13068391, -0.2304076 ,\n",
       "         0.13995056,  0.01899551, -0.02405997,  0.18678664,  0.17482738,\n",
       "        -0.12976566,  0.05606674, -0.14702699, -0.1772393 ,  0.10590665,\n",
       "         0.01537988, -0.10073005,  0.00719965,  0.03986625, -0.11426287,\n",
       "        -0.03456262,  0.0047082 ,  0.15649094,  0.22824271,  0.00061995,\n",
       "        -0.00327514, -0.09874068, -0.22959588, -0.17385805, -0.15445447,\n",
       "         0.13631351,  0.17382924,  0.1327485 ,  0.04061593,  0.1769072 ,\n",
       "         0.05959348,  0.11866592,  0.04463212,  0.11116259,  0.1857015 ,\n",
       "        -0.06656744, -0.06494828, -0.18502702, -0.03362286, -0.07217231,\n",
       "         0.12235628,  0.02923445, -0.09933122,  0.14919071, -0.22514628,\n",
       "         0.16494514, -0.0284213 , -0.15228902, -0.11934171,  0.10617746,\n",
       "        -0.03609832,  0.00502032, -0.03110489,  0.01141627,  0.18433674,\n",
       "        -0.0618061 , -0.07766698, -0.09535697,  0.00574455, -0.18425597],\n",
       "       [-0.00462776, -0.22745012,  0.18495356, -0.09400558,  0.23305623,\n",
       "        -0.2022672 ,  0.00327843,  0.19297628, -0.14365524, -0.18009853,\n",
       "        -0.20300934, -0.06867991, -0.12872589, -0.04716168,  0.14466788,\n",
       "         0.15475066,  0.20507084,  0.14557548, -0.11893381,  0.21889512,\n",
       "        -0.15767428,  0.11679442, -0.05097684,  0.07472076, -0.17222585,\n",
       "         0.18224894,  0.21854596, -0.03721611, -0.18399602, -0.01184821,\n",
       "         0.01158486,  0.16146858, -0.22391309,  0.03458913, -0.08058435,\n",
       "        -0.04194328, -0.10796219,  0.09887935, -0.08069561,  0.02257527,\n",
       "         0.21828003,  0.17130701,  0.1840377 ,  0.10141085,  0.03333037,\n",
       "        -0.20731746, -0.02148864, -0.20412628,  0.00451538,  0.10320012,\n",
       "         0.03719194,  0.00937986,  0.11542179, -0.08683412,  0.06501339,\n",
       "        -0.10256261,  0.02021421,  0.05547006,  0.05523564,  0.0082119 ,\n",
       "         0.01053385, -0.14031243,  0.1958028 , -0.04812503, -0.00312831,\n",
       "         0.06367274,  0.17329828,  0.22049375, -0.03927539,  0.03380163,\n",
       "        -0.06375429, -0.1664926 , -0.11857297,  0.02310462,  0.08723949,\n",
       "        -0.00186802,  0.16105174,  0.19488592,  0.00187916,  0.19008885,\n",
       "        -0.0208227 , -0.21794932, -0.21139956, -0.20395204, -0.13651992,\n",
       "        -0.01681787,  0.02124856, -0.01920657,  0.10860775, -0.01052904,\n",
       "        -0.23043321, -0.16059646,  0.12441407, -0.0331201 , -0.2020825 ,\n",
       "        -0.0444057 , -0.03429149, -0.03408273,  0.16181783, -0.21831974]],\n",
       "      dtype=float32)"
      ]
     },
     "execution_count": 10,
     "metadata": {},
     "output_type": "execute_result"
    }
   ],
   "source": [
    "weights, biases = hidden1.get_weights()\n",
    "weights"
   ]
  },
  {
   "cell_type": "code",
   "execution_count": 11,
   "metadata": {},
   "outputs": [
    {
     "data": {
      "text/plain": [
       "(9, 100)"
      ]
     },
     "execution_count": 11,
     "metadata": {},
     "output_type": "execute_result"
    }
   ],
   "source": [
    "weights.shape"
   ]
  },
  {
   "cell_type": "code",
   "execution_count": 12,
   "metadata": {},
   "outputs": [
    {
     "data": {
      "text/plain": [
       "array([0., 0., 0., 0., 0., 0., 0., 0., 0., 0., 0., 0., 0., 0., 0., 0., 0.,\n",
       "       0., 0., 0., 0., 0., 0., 0., 0., 0., 0., 0., 0., 0., 0., 0., 0., 0.,\n",
       "       0., 0., 0., 0., 0., 0., 0., 0., 0., 0., 0., 0., 0., 0., 0., 0., 0.,\n",
       "       0., 0., 0., 0., 0., 0., 0., 0., 0., 0., 0., 0., 0., 0., 0., 0., 0.,\n",
       "       0., 0., 0., 0., 0., 0., 0., 0., 0., 0., 0., 0., 0., 0., 0., 0., 0.,\n",
       "       0., 0., 0., 0., 0., 0., 0., 0., 0., 0., 0., 0., 0., 0., 0.],\n",
       "      dtype=float32)"
      ]
     },
     "execution_count": 12,
     "metadata": {},
     "output_type": "execute_result"
    }
   ],
   "source": [
    "biases"
   ]
  },
  {
   "cell_type": "code",
   "execution_count": 13,
   "metadata": {},
   "outputs": [
    {
     "data": {
      "text/plain": [
       "(100,)"
      ]
     },
     "execution_count": 13,
     "metadata": {},
     "output_type": "execute_result"
    }
   ],
   "source": [
    "biases.shape"
   ]
  },
  {
   "cell_type": "code",
   "execution_count": 14,
   "metadata": {},
   "outputs": [],
   "source": [
    "model.compile(loss='categorical_crossentropy',\n",
    "              optimizer=keras.optimizers.Adagrad(),\n",
    "              metrics=['accuracy'])"
   ]
  },
  {
   "cell_type": "code",
   "execution_count": 15,
   "metadata": {},
   "outputs": [
    {
     "name": "stdout",
     "output_type": "stream",
     "text": [
      "Epoch 1/17\n",
      "125/125 [==============================] - 3s 6ms/step - loss: 1.3004 - accuracy: 0.4865 - val_loss: 1.2213 - val_accuracy: 0.6540\n",
      "Epoch 2/17\n",
      "125/125 [==============================] - 1s 4ms/step - loss: 1.1671 - accuracy: 0.6195 - val_loss: 1.1205 - val_accuracy: 0.6540\n",
      "Epoch 3/17\n",
      "125/125 [==============================] - 1s 4ms/step - loss: 1.0785 - accuracy: 0.6593 - val_loss: 1.0438 - val_accuracy: 0.6890\n",
      "Epoch 4/17\n",
      "125/125 [==============================] - 1s 4ms/step - loss: 1.0078 - accuracy: 0.7225 - val_loss: 0.9806 - val_accuracy: 0.7920\n",
      "Epoch 5/17\n",
      "125/125 [==============================] - 0s 4ms/step - loss: 0.9453 - accuracy: 0.7935 - val_loss: 0.9229 - val_accuracy: 0.8530\n",
      "Epoch 6/17\n",
      "125/125 [==============================] - 1s 4ms/step - loss: 0.8886 - accuracy: 0.8390 - val_loss: 0.8702 - val_accuracy: 0.8850\n",
      "Epoch 7/17\n",
      "125/125 [==============================] - 0s 4ms/step - loss: 0.8365 - accuracy: 0.8830 - val_loss: 0.8213 - val_accuracy: 0.9280\n",
      "Epoch 8/17\n",
      "125/125 [==============================] - 0s 4ms/step - loss: 0.7884 - accuracy: 0.9172 - val_loss: 0.7766 - val_accuracy: 0.9580\n",
      "Epoch 9/17\n",
      "125/125 [==============================] - 0s 4ms/step - loss: 0.7446 - accuracy: 0.9575 - val_loss: 0.7355 - val_accuracy: 0.9580\n",
      "Epoch 10/17\n",
      "125/125 [==============================] - 0s 4ms/step - loss: 0.7046 - accuracy: 0.9575 - val_loss: 0.6978 - val_accuracy: 0.9580\n",
      "Epoch 11/17\n",
      "125/125 [==============================] - 0s 4ms/step - loss: 0.6675 - accuracy: 0.9575 - val_loss: 0.6621 - val_accuracy: 0.9580\n",
      "Epoch 12/17\n",
      "125/125 [==============================] - 0s 4ms/step - loss: 0.6327 - accuracy: 0.9575 - val_loss: 0.6287 - val_accuracy: 0.9580\n",
      "Epoch 13/17\n",
      "125/125 [==============================] - 0s 4ms/step - loss: 0.5997 - accuracy: 0.9628 - val_loss: 0.5965 - val_accuracy: 1.0000\n",
      "Epoch 14/17\n",
      "125/125 [==============================] - 0s 4ms/step - loss: 0.5683 - accuracy: 1.0000 - val_loss: 0.5660 - val_accuracy: 1.0000\n",
      "Epoch 15/17\n",
      "125/125 [==============================] - 0s 4ms/step - loss: 0.5386 - accuracy: 1.0000 - val_loss: 0.5372 - val_accuracy: 1.0000\n",
      "Epoch 16/17\n",
      "125/125 [==============================] - 0s 4ms/step - loss: 0.5104 - accuracy: 1.0000 - val_loss: 0.5096 - val_accuracy: 1.0000\n",
      "Epoch 17/17\n",
      "125/125 [==============================] - 0s 4ms/step - loss: 0.4835 - accuracy: 1.0000 - val_loss: 0.4831 - val_accuracy: 1.0000\n"
     ]
    }
   ],
   "source": [
    "history = model.fit(x_train, y_train, epochs=17, validation_data=(x_test, y_test))"
   ]
  },
  {
   "cell_type": "code",
   "execution_count": 16,
   "metadata": {},
   "outputs": [
    {
     "data": {
      "image/png": "[encoded data removed]",
      "text/plain": [
       "<Figure size 576x360 with 1 Axes>"
      ]
     },
     "metadata": {
      "needs_background": "light"
     },
     "output_type": "display_data"
    }
   ],
   "source": [
    "pd.DataFrame(history.history).plot(figsize=(8,5))\n",
    "plt.grid(True)\n",
    "plt.gca().set_ylim(0,1) # Wyznacza zakres osi pionowej od 0 do 1\n",
    "plt.show()"
   ]
  },
  {
   "cell_type": "code",
   "execution_count": 17,
   "metadata": {},
   "outputs": [],
   "source": [
    "# 's': 0, 'v': 1, 'd': 2, 'h': 3"
   ]
  },
  {
   "cell_type": "code",
   "execution_count": 18,
   "metadata": {},
   "outputs": [
    {
     "data": {
      "text/plain": [
       "array([[0.26873285, 0.05365775, 0.11426891, 0.5633405 ]], dtype=float32)"
      ]
     },
     "execution_count": 18,
     "metadata": {},
     "output_type": "execute_result"
    }
   ],
   "source": [
    "model.predict([np.array([[1.0, 1.0, 1.0], [-1.0, -1.0, -1.0], [1.0, 1.0, 1.0]]).reshape(1, 9)])"
   ]
  },
  {
   "cell_type": "code",
   "execution_count": 19,
   "metadata": {},
   "outputs": [
    {
     "name": "stdout",
     "output_type": "stream",
     "text": [
      "Test loss: 0.4830961227416992\n",
      "Test accuracy: 1.0\n"
     ]
    }
   ],
   "source": [
    "score = model.evaluate(x_test, y_test, verbose=0)\n",
    "\n",
    "print('Test loss: {}'.format(score[0]))\n",
    "print('Test accuracy: {}'.format(score[1]))"
   ]
  },
  {
   "cell_type": "code",
   "execution_count": 20,
   "metadata": {},
   "outputs": [],
   "source": [
    "import contextlib\n",
    "\n",
    "@contextlib.contextmanager\n",
    "def printoptions(*args, **kwargs):\n",
    "    original = np.get_printoptions()\n",
    "    np.set_printoptions(*args, **kwargs)\n",
    "    try:\n",
    "        yield\n",
    "    finally: \n",
    "        np.set_printoptions(**original)"
   ]
  },
  {
   "cell_type": "code",
   "execution_count": 21,
   "metadata": {},
   "outputs": [
    {
     "name": "stdout",
     "output_type": "stream",
     "text": [
      "[array([[ 0.2,  0.2,  0.2,  0. , -0.2,  0.2, -0. , -0.1,  0.2, -0.1,  0.1,\n",
      "        -0.1,  0. ,  0.1,  0.1,  0. , -0.1,  0.2, -0.1,  0. , -0.2,  0.1,\n",
      "        -0. ,  0.2, -0. ,  0.1, -0.1,  0.2, -0.1, -0. , -0.2, -0.1,  0. ,\n",
      "        -0.1, -0.2, -0.1,  0.2,  0.1,  0.2,  0.2,  0.1,  0.1,  0.2,  0.1,\n",
      "         0.2,  0.1, -0. ,  0. , -0.1,  0.1, -0.1, -0.2, -0.1,  0.1, -0. ,\n",
      "        -0.1,  0.2, -0.2, -0.1,  0.1, -0.2,  0.1,  0. , -0.1,  0.2,  0.2,\n",
      "         0.1, -0. ,  0. , -0. , -0.1, -0.2,  0.1, -0.2,  0.3, -0.2,  0.2,\n",
      "         0. , -0.1,  0.1,  0.1,  0.1, -0. , -0.1,  0. , -0.1,  0.1,  0. ,\n",
      "        -0.1,  0. ,  0.1, -0.2,  0.1, -0.3,  0.1,  0. , -0.2,  0. , -0.2,\n",
      "        -0.1],\n",
      "       [ 0.1, -0. , -0.2, -0. ,  0.2,  0.1, -0.1, -0.2, -0.1, -0.1, -0. ,\n",
      "         0.1, -0.1,  0.1, -0.2,  0.1, -0.1,  0.2, -0.1, -0.2,  0.2,  0.1,\n",
      "         0.2,  0.1, -0. , -0.1,  0.1, -0. ,  0. , -0.1, -0.1,  0.2,  0.1,\n",
      "        -0.1,  0.2,  0.1, -0. ,  0.2,  0. ,  0.1,  0.2, -0.1,  0.2, -0.1,\n",
      "        -0. ,  0.2, -0.1, -0.1,  0.2,  0.2, -0.1,  0. , -0. , -0.1,  0.2,\n",
      "         0.1,  0. ,  0. ,  0.2,  0.2, -0.2, -0.1, -0.1,  0. ,  0.2,  0.2,\n",
      "         0. , -0.1,  0.2, -0. , -0.1,  0.1,  0.2, -0.2,  0.2, -0.1,  0.1,\n",
      "         0. ,  0.2, -0. ,  0. ,  0.2,  0.1, -0.2, -0.1,  0.2,  0.1, -0.2,\n",
      "         0.2,  0.1,  0.2,  0.1, -0.2,  0.2,  0.2, -0.1,  0.2, -0. , -0. ,\n",
      "        -0.1],\n",
      "       [-0.2, -0.1, -0.2,  0.2, -0.1,  0.1,  0.1, -0.2,  0.1, -0.3,  0.2,\n",
      "        -0.1, -0.2, -0. , -0.1, -0.2,  0.1, -0.1,  0.2, -0.2,  0. , -0.2,\n",
      "         0. ,  0.1,  0. ,  0.1, -0.2, -0. ,  0.2,  0.1, -0.1,  0.2,  0. ,\n",
      "         0.2, -0.2,  0. , -0.2,  0. ,  0.2, -0. ,  0. ,  0. , -0.2,  0. ,\n",
      "         0.1, -0.2, -0. , -0. ,  0.2,  0.1,  0. , -0.2,  0.2, -0.1, -0.2,\n",
      "        -0.2, -0.1, -0. ,  0.2,  0.1,  0.2, -0.1,  0. , -0.2,  0. , -0. ,\n",
      "        -0.2, -0.2, -0.1, -0.2,  0.1, -0.1,  0. , -0. , -0.2,  0.1, -0.1,\n",
      "         0.2, -0.1,  0.2, -0. ,  0.2,  0. ,  0.1, -0.1,  0.1,  0.1, -0. ,\n",
      "        -0. ,  0. , -0.2,  0.1,  0.1, -0.1, -0.2, -0.2, -0.2,  0.1,  0.1,\n",
      "        -0. ],\n",
      "       [ 0. ,  0. ,  0. , -0.1,  0.1,  0.1, -0. , -0.2,  0.1, -0.1,  0.2,\n",
      "        -0.2,  0.1,  0. , -0.1, -0. ,  0.1,  0. ,  0. ,  0.1,  0.2,  0.1,\n",
      "        -0.1,  0.2,  0.1, -0.1,  0.1, -0.2,  0.2, -0.2,  0.2, -0.1,  0.1,\n",
      "         0.1, -0.1, -0.1,  0.2,  0.1, -0.2, -0. , -0.1, -0.1,  0.2,  0.1,\n",
      "         0.2, -0.2, -0.1,  0. ,  0.2,  0.1, -0. ,  0.1,  0. ,  0. , -0.1,\n",
      "         0. ,  0. ,  0. , -0.2,  0.1, -0.2,  0.1,  0.2,  0.1,  0.2,  0.1,\n",
      "         0.2, -0.1,  0. ,  0. , -0.2, -0. , -0.1,  0.1,  0.2,  0.2,  0.2,\n",
      "        -0.1, -0.2, -0. ,  0.3, -0.1,  0.2, -0.1, -0.2,  0.1, -0. , -0. ,\n",
      "        -0.1,  0. ,  0.1,  0.1, -0.1,  0.1,  0. ,  0.1,  0.2, -0.2,  0.2,\n",
      "         0.2],\n",
      "       [-0.1,  0.2, -0.1,  0.1, -0. ,  0.1,  0.2, -0.2, -0. , -0.1,  0.2,\n",
      "         0.1, -0.1,  0.1, -0.3, -0.1,  0.2,  0.2, -0.1,  0.2,  0.2, -0.1,\n",
      "        -0. ,  0.1, -0.2,  0.2, -0. ,  0.1, -0.2, -0.1,  0.1,  0.1, -0.2,\n",
      "         0.1, -0.2, -0.1,  0. ,  0.2, -0.2,  0.1, -0.1, -0.1,  0.3,  0.1,\n",
      "         0.1, -0.2,  0. ,  0.1, -0.1,  0.1,  0.1,  0. , -0. ,  0. ,  0.1,\n",
      "         0.2, -0.2,  0.1, -0.1, -0.1, -0.1, -0.1,  0.2, -0. ,  0.2,  0.2,\n",
      "         0. ,  0. , -0.1,  0. , -0.1,  0. , -0. ,  0. , -0.1,  0. , -0.1,\n",
      "        -0.1, -0.2,  0. , -0.2, -0.1, -0.1,  0. , -0.2, -0.2,  0. , -0.2,\n",
      "         0. ,  0. , -0. , -0.2, -0.1, -0.1, -0.1, -0.1, -0.1,  0.2,  0. ,\n",
      "         0. ],\n",
      "       [-0. ,  0.2,  0. ,  0.2,  0.1,  0. , -0.2, -0.1,  0.2, -0.1,  0.2,\n",
      "         0.2,  0.1,  0.1, -0.1,  0. ,  0.1, -0.1,  0.2,  0.1, -0. ,  0.2,\n",
      "         0.1, -0.2, -0.2,  0.1,  0.1, -0.1,  0.1,  0.1,  0.1, -0. , -0.2,\n",
      "         0.1, -0.2, -0.1,  0.1,  0.1,  0.1,  0.1,  0.2,  0. , -0.1, -0.1,\n",
      "        -0.2, -0.1, -0.1, -0.2,  0.2,  0. ,  0.2,  0.1, -0.2,  0. ,  0.1,\n",
      "        -0. ,  0.1,  0. ,  0.1,  0.2, -0. ,  0.2,  0.1,  0.2, -0.1,  0.1,\n",
      "        -0. , -0.1,  0.1,  0.1, -0.1,  0.2,  0. ,  0.1, -0. ,  0.1,  0.1,\n",
      "        -0. ,  0.1, -0.1,  0.1,  0. ,  0.2, -0. ,  0. ,  0.2,  0.1,  0.2,\n",
      "        -0.1,  0. , -0.1,  0.1,  0.2,  0.1, -0.2,  0.2, -0.2,  0.2,  0.1,\n",
      "        -0.2],\n",
      "       [-0.1, -0. ,  0.1,  0. , -0. ,  0.2,  0.1, -0.1, -0.2,  0.1, -0. ,\n",
      "         0.1, -0.2, -0.2,  0.2, -0.2, -0.2,  0.1,  0. , -0.2,  0.1,  0.2,\n",
      "        -0.2, -0. ,  0. , -0.1,  0.1,  0.2,  0.1, -0. ,  0.1,  0. , -0.2,\n",
      "        -0.2, -0.1, -0.2,  0.1,  0.1,  0.1,  0.3, -0.1,  0.1,  0.2, -0.1,\n",
      "         0.1, -0. ,  0.2,  0.2, -0.1,  0. ,  0.2,  0.2, -0. , -0.1, -0. ,\n",
      "        -0. ,  0.1,  0.2, -0.1, -0.2, -0. ,  0.2,  0.2, -0.1,  0.1, -0.2,\n",
      "         0.3,  0.1, -0.2, -0.1, -0.2, -0.1, -0.1,  0.1, -0.2, -0.1,  0.1,\n",
      "         0.2, -0.1, -0.2, -0.1,  0. ,  0.1, -0.1,  0. ,  0.1,  0.2,  0. ,\n",
      "         0. , -0.2,  0. ,  0. , -0. ,  0.2, -0.1, -0. ,  0.1, -0.2,  0.2,\n",
      "        -0.2],\n",
      "       [ 0.1,  0. ,  0.1,  0.1, -0.1,  0.1,  0.1, -0.2,  0.2,  0.1,  0. ,\n",
      "        -0. ,  0.3,  0.2,  0. , -0.1,  0.1,  0.2,  0.1,  0.2,  0. ,  0.1,\n",
      "         0. ,  0. , -0.2, -0.1,  0.2, -0.1, -0.2, -0.1, -0.1, -0.2, -0.1,\n",
      "         0.1,  0.2,  0.1, -0. , -0.2,  0.1, -0.3,  0.1,  0. , -0.1,  0.2,\n",
      "         0.2, -0.1,  0. , -0.1, -0.2,  0.1,  0. , -0.1,  0. ,  0. , -0.1,\n",
      "        -0. , -0. ,  0.2,  0.2, -0. ,  0. , -0.1, -0.2, -0.2, -0.2,  0.1,\n",
      "         0.2,  0.1,  0. ,  0.2,  0.1,  0.1,  0. ,  0.1,  0.2, -0.1, -0.1,\n",
      "        -0.2, -0. , -0.1,  0.1,  0.1, -0.1,  0.2, -0.2,  0.1, -0.1, -0.2,\n",
      "        -0.1,  0.1, -0. , -0. , -0.1,  0. ,  0.2, -0.1, -0.1, -0.1,  0. ,\n",
      "        -0.2],\n",
      "       [ 0. , -0.2,  0.2, -0.1,  0.2, -0.2,  0. ,  0.2, -0.1, -0.2, -0.2,\n",
      "        -0. , -0.1, -0.1,  0.2,  0.2,  0.2,  0.2, -0.1,  0.2, -0.2,  0.1,\n",
      "        -0.1,  0. , -0.2,  0.2,  0.3, -0.1, -0.2,  0. , -0. ,  0.1, -0.3,\n",
      "         0.1, -0.1,  0. , -0.1,  0.1, -0.1,  0. ,  0.2,  0.2,  0.2,  0.1,\n",
      "        -0. , -0.2, -0. , -0.2,  0. ,  0.1,  0. , -0. ,  0.2, -0.1,  0. ,\n",
      "        -0.1,  0. ,  0.1,  0.1, -0. ,  0. , -0.1,  0.2, -0. ,  0. ,  0.1,\n",
      "         0.1,  0.2, -0.1,  0.1, -0.1, -0.2, -0.1,  0. ,  0.1,  0. ,  0.2,\n",
      "         0.2,  0. ,  0.2, -0. , -0.2, -0.2, -0.2, -0.1, -0. ,  0. , -0. ,\n",
      "         0.1,  0. , -0.3, -0.2,  0.1, -0.1, -0.2, -0.1, -0. , -0. ,  0.1,\n",
      "        -0.3]], dtype=float32), array([ 0., -0.,  0., -0., -0., -0.,  0.,  0., -0.,  0., -0.,  0.,  0.,\n",
      "        0.,  0., -0., -0.,  0., -0., -0., -0.,  0.,  0., -0.,  0., -0.,\n",
      "        0.,  0.,  0.,  0.,  0., -0., -0.,  0., -0.,  0.,  0.,  0.,  0.,\n",
      "        0.,  0.,  0.,  0., -0.,  0., -0., -0.,  0., -0., -0.,  0.,  0.,\n",
      "        0.,  0.,  0., -0., -0.,  0.,  0.,  0., -0.,  0.,  0., -0.,  0.,\n",
      "       -0., -0., -0.,  0.,  0.,  0., -0.,  0., -0., -0.,  0.,  0., -0.,\n",
      "        0.,  0.,  0.,  0.,  0., -0.,  0.,  0.,  0., -0.,  0.,  0.,  0.,\n",
      "       -0., -0., -0., -0., -0.,  0., -0., -0.,  0.], dtype=float32)]\n",
      "[array([[ 0.1,  0. ,  0.1, ..., -0.1, -0. , -0.2],\n",
      "       [ 0.1,  0. ,  0.1, ..., -0. , -0.2, -0.2],\n",
      "       [-0.1, -0.1, -0.2, ...,  0.1, -0.2,  0.1],\n",
      "       ...,\n",
      "       [ 0.1, -0.2,  0.2, ..., -0.1,  0.1, -0.1],\n",
      "       [-0.1, -0. ,  0. , ...,  0.1, -0. ,  0.1],\n",
      "       [-0.1, -0.2, -0.2, ..., -0.2,  0.1, -0.2]], dtype=float32), array([-0., -0., -0., -0., -0., -0., -0.,  0., -0.,  0., -0., -0., -0.,\n",
      "       -0.,  0., -0., -0.,  0.,  0.,  0., -0.,  0.,  0.,  0.,  0.,  0.,\n",
      "       -0., -0., -0., -0.,  0., -0.,  0.,  0., -0., -0.,  0.,  0., -0.,\n",
      "       -0., -0., -0.,  0., -0., -0., -0.,  0., -0., -0.,  0.],\n",
      "      dtype=float32)]\n",
      "[array([[ 0.3, -0. , -0. , ..., -0. , -0.1, -0.1],\n",
      "       [ 0.1, -0.2,  0.1, ...,  0.1,  0.2, -0.1],\n",
      "       [ 0.1,  0.2,  0.1, ..., -0.2, -0.1,  0.1],\n",
      "       ...,\n",
      "       [-0.1,  0.1,  0.2, ..., -0.2, -0.1,  0. ],\n",
      "       [-0. ,  0. , -0.3, ..., -0.1, -0.3,  0.2],\n",
      "       [ 0.1, -0.1,  0. , ..., -0.3,  0.1,  0.2]], dtype=float32), array([ 0. ,  0. , -0. , -0. ,  0. ,  0. ,  0. ,  0. ,  0. , -0. ,  0. ,\n",
      "       -0. ,  0. ,  0. ,  0.1, -0. , -0. ,  0. ,  0. , -0. , -0. ,  0. ,\n",
      "        0.1, -0. ,  0. ,  0. ,  0. ,  0. ,  0. , -0. ], dtype=float32)]\n",
      "[array([[ 0. , -0.1,  0.3, -0.1, -0.3,  0.3, -0.3,  0.2, -0.1, -0.3, -0.2,\n",
      "         0.1,  0.2, -0.3, -0. , -0.2, -0.2, -0.1],\n",
      "       [-0.2, -0.1, -0. ,  0.3,  0.1,  0.3, -0. ,  0.2,  0.3, -0.2, -0.3,\n",
      "         0.4,  0.2, -0.3, -0.1, -0. , -0.1,  0. ],\n",
      "       [ 0.3,  0.4, -0.3,  0.2,  0.2, -0.1, -0. ,  0. , -0.2, -0.4, -0.2,\n",
      "         0.1, -0.2,  0.3,  0.4, -0.3, -0.3, -0. ],\n",
      "       [ 0.1, -0. ,  0. , -0.1,  0.1,  0.3, -0.2,  0.1,  0.1, -0.1, -0. ,\n",
      "        -0. , -0. , -0.3,  0.1, -0.2,  0. , -0.2],\n",
      "       [ 0.3,  0.1, -0.3,  0.1, -0.3,  0. ,  0.1,  0.3,  0.3,  0.3, -0.1,\n",
      "         0.3, -0.1, -0.2,  0. , -0.2, -0.2,  0.1],\n",
      "       [ 0.2,  0.2,  0.2, -0.1,  0.3, -0.2,  0.3,  0.2,  0.2, -0.3, -0.3,\n",
      "         0. , -0.3,  0.3,  0.3, -0.1,  0.2,  0.1],\n",
      "       [-0.2, -0.1, -0.2, -0.1, -0.1,  0.2,  0.3,  0.3, -0.2, -0.2, -0.3,\n",
      "         0.3, -0.2,  0. , -0.4, -0.1,  0.1,  0.4],\n",
      "       [ 0.1, -0.3,  0.3, -0. ,  0.3,  0.1, -0.2, -0.2,  0.3, -0.3,  0. ,\n",
      "        -0.1, -0.3, -0.3,  0.2, -0.3,  0.2, -0.1],\n",
      "       [ 0. ,  0. ,  0.3, -0.3, -0. ,  0.2, -0.2,  0.3, -0.4,  0. , -0.1,\n",
      "        -0.2, -0.2, -0. , -0.4, -0.3,  0.2,  0.3],\n",
      "       [ 0.2,  0.4, -0.2,  0.2, -0.3,  0.3,  0.4,  0.2,  0. ,  0.4, -0.3,\n",
      "        -0. , -0.3, -0.2, -0.1,  0. , -0. , -0.1],\n",
      "       [-0.3,  0.1,  0.4,  0.3, -0.1, -0.1,  0. ,  0.3,  0.1, -0.2,  0.4,\n",
      "         0.3, -0.2,  0.2,  0.2, -0.1, -0.3, -0.3],\n",
      "       [-0.3, -0.2, -0.2, -0.1,  0.4,  0.1, -0.2, -0.3, -0.2, -0.1,  0.4,\n",
      "         0.1, -0.3, -0.3, -0.3, -0. ,  0.1, -0.2],\n",
      "       [ 0.3, -0.3, -0. , -0.3, -0. , -0.2,  0. , -0.2,  0.1,  0.2,  0.2,\n",
      "         0.3,  0.1,  0.3, -0.3,  0.1,  0.2,  0.3],\n",
      "       [-0. ,  0. ,  0.2,  0.1,  0.2, -0.3,  0.2, -0.1, -0.2, -0.3,  0.1,\n",
      "         0.1,  0.1,  0.3,  0.4, -0.2, -0.1, -0.2],\n",
      "       [ 0.1,  0.1,  0.1,  0.1, -0.2,  0.3,  0.3,  0.3,  0.3,  0.2,  0.2,\n",
      "         0.2,  0.1, -0.1,  0.2, -0. , -0.3,  0.2],\n",
      "       [-0.3, -0.4, -0.2, -0.1,  0.4,  0.1, -0.2, -0.3,  0.1,  0.3,  0.1,\n",
      "         0. , -0.2,  0.2, -0. , -0.1,  0.3,  0.2],\n",
      "       [-0.2,  0. , -0.2, -0.1, -0.2,  0. , -0.1, -0.2, -0.3,  0.2,  0.2,\n",
      "         0.2,  0.3,  0. , -0.2,  0.1, -0.3, -0.3],\n",
      "       [-0.1,  0.1, -0.1,  0.1, -0.3, -0.3,  0.2, -0.3,  0. , -0.3,  0.2,\n",
      "         0.4, -0.3, -0.1, -0. ,  0.1, -0.2, -0.3],\n",
      "       [ 0.1,  0.3, -0.1, -0.3,  0.2,  0.2, -0. , -0.2,  0.3, -0.3, -0.2,\n",
      "         0.4, -0. ,  0.1, -0.2,  0.1,  0.4, -0.3],\n",
      "       [-0.2, -0.2, -0.1, -0.4, -0.3, -0.3,  0.4, -0.2, -0.1,  0.1, -0.1,\n",
      "        -0.2,  0.4, -0.1, -0.4,  0.2,  0.3, -0.3],\n",
      "       [ 0.1,  0.4, -0.2, -0.3, -0.2, -0.2,  0.3,  0.2, -0.1,  0.1, -0.3,\n",
      "         0.4,  0.1,  0.4, -0. ,  0. ,  0.2, -0.1],\n",
      "       [-0.2,  0.2, -0.3, -0. ,  0.3,  0.3,  0.2,  0.1,  0. , -0.3,  0.2,\n",
      "         0.1, -0.1,  0.1, -0. ,  0.2, -0.3, -0. ],\n",
      "       [-0.4, -0. , -0. , -0.1, -0.2,  0. ,  0.2, -0.3,  0.4,  0.1,  0.2,\n",
      "         0. ,  0.2, -0.2,  0.2, -0. , -0.2,  0.2],\n",
      "       [-0.1, -0.4,  0. ,  0.2,  0.2,  0.1,  0.2, -0.4,  0.2, -0.3, -0.2,\n",
      "         0.2, -0.3,  0.2, -0.2,  0.1,  0.1,  0.1],\n",
      "       [-0.3,  0.3,  0.2, -0.1, -0. ,  0.4,  0.1,  0.4,  0.2, -0. ,  0.2,\n",
      "        -0.2,  0. ,  0.4, -0. ,  0.1,  0.2,  0.1],\n",
      "       [ 0.1, -0.3,  0.3,  0.3, -0.1, -0.1,  0. , -0.2,  0.3,  0.1,  0.2,\n",
      "         0.1,  0.3,  0.3, -0.1,  0.1, -0.3,  0.2],\n",
      "       [-0. , -0.2,  0.1,  0.1,  0.1,  0.2, -0.1,  0.3, -0.1,  0.1, -0.3,\n",
      "         0. , -0.2,  0.2,  0.4, -0.2,  0.3,  0.3],\n",
      "       [ 0.3, -0.2,  0.1, -0. , -0.1,  0.2, -0.4,  0.3, -0.3,  0.3, -0.1,\n",
      "        -0.2,  0.3,  0. ,  0.3,  0.3, -0.3, -0.1],\n",
      "       [-0.2,  0.2,  0.3, -0.2, -0.3, -0.1,  0.2, -0.1, -0.3,  0.2,  0.3,\n",
      "        -0.3, -0.2,  0. ,  0.3,  0.3, -0.2, -0. ],\n",
      "       [-0.2, -0.3,  0.3,  0.2,  0.2,  0.2, -0.3,  0.2, -0.2,  0.3, -0.3,\n",
      "         0. , -0.2, -0. , -0.1, -0.4, -0. ,  0.1]], dtype=float32), array([ 0. ,  0. ,  0.1, -0. ,  0.1, -0. ,  0.1,  0. ,  0. , -0. ,  0.1,\n",
      "        0. ,  0. , -0. ,  0. , -0. ,  0. ,  0. ], dtype=float32)]\n",
      "[array([[ 0.5,  0.4,  0.3, -0.2],\n",
      "       [-0.3,  0.4, -0.4,  0.3],\n",
      "       [-0.3, -0.1,  0. ,  0.4],\n",
      "       [-0.5,  0.2,  0. , -0.5],\n",
      "       [ 0. , -0. ,  0.5,  0.5],\n",
      "       [-0.1,  0.6,  0.3, -0.2],\n",
      "       [ 0.3, -0.6,  0.5,  0.2],\n",
      "       [-0.3,  0.6, -0. , -0.5],\n",
      "       [ 0.4,  0. , -0.6,  0.1],\n",
      "       [ 0.2, -0.2, -0.3,  0. ],\n",
      "       [-0.2, -0.1,  0.5,  0.5],\n",
      "       [ 0.5,  0.4, -0.3,  0.5],\n",
      "       [-0.2, -0.2,  0.2,  0.3],\n",
      "       [ 0.3, -0.1, -0.4, -0.5],\n",
      "       [-0.6,  0.1,  0.3, -0.6],\n",
      "       [-0.3,  0.1,  0.1, -0.5],\n",
      "       [ 0.2,  0.2,  0.1, -0.4],\n",
      "       [-0.2, -0.2, -0.5, -0.4]], dtype=float32), array([-0. , -0.1,  0. ,  0.1], dtype=float32)]\n"
     ]
    }
   ],
   "source": [
    "with printoptions(precision=1, suppress=True):\n",
    "    for layer in model.layers:\n",
    "        print(layer.get_weights())"
   ]
  },
  {
   "cell_type": "code",
   "execution_count": null,
   "metadata": {},
   "outputs": [],
   "source": []
  }
 ],
 "metadata": {
  "interpreter": {
   "hash": "ff98d69e7a97beaea126c722491966825a3c81454c18e48563124b1900563f9c"
  },
  "kernelspec": {
   "display_name": "Python 3.9.5 64-bit ('data_science_gpu': conda)",
   "name": "python3"
  },
  "language_info": {
   "codemirror_mode": {
    "name": "ipython",
    "version": 3
   },
   "file_extension": ".py",
   "mimetype": "text/x-python",
   "name": "python",
   "nbconvert_exporter": "python",
   "pygments_lexer": "ipython3",
   "version": "3.9.5"
  }
 },
 "nbformat": 4,
 "nbformat_minor": 2
}