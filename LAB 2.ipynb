{
 "cells": [
  {
   "cell_type": "code",
   "execution_count": null,
   "metadata": {},
   "outputs": [],
   "source": [
    "2.1. Regresja liniowa\n",
    "\n",
    "Plik fires_thefts.csv zawiera rzeczywiste dane zebrane przez U.S. Commission on Civil Rights,\n",
    "przedstawiające liczbę pożarów w danej dzielnicy na tysiąc gospodarstw domowych (pierwsza kolumna)\n",
    "oraz liczbę włamań w tej samej dzielnicy na tysiąc mieszkańców (druga kolumna).\n",
    "\n",
    "Stwórz model (regresja liniowa) przewidujący liczbę włamań na podstawie liczby pożarów:\n",
    "\n",
    "Oblicz parametry θ krzywej regresyjnej za pomocą metody gradientu prostego (gradient descent).\n",
    "Możesz wybrać wersję iteracyjną lub macierzową algorytmu. Poeksperymentuj z różnymi wartościami\n",
    "współczynnika szybkości uczenia α:\n",
    "- α=0.001\n",
    "- α=0.01\n",
    "- α=0.1\n",
    "Wykorzystując uzyskaną krzywą regresyjną przepowiedz liczbę włamań na tysiąc mieszkańców dla dzielnicy,\n",
    "w której występuje średnio 50, 100, 200 pożarów na tysiąc gospodarstw domowych."
   ]
  },
  {
   "cell_type": "code",
   "execution_count": null,
   "metadata": {},
   "outputs": [],
   "source": [
    "2.2. Regresja liniowa (scikit-learn)\n",
    "Zaimplementuj rozwiązanie zadania 2.1 korzystając z modelu regresji liniowej\n",
    "z pakietu scikit-learn."
   ]
  },
  {
   "cell_type": "code",
   "execution_count": 13,
   "metadata": {},
   "outputs": [
    {
     "data": {
      "text/html": [
       "<div>\n",
       "<style scoped>\n",
       "    .dataframe tbody tr th:only-of-type {\n",
       "        vertical-align: middle;\n",
       "    }\n",
       "\n",
       "    .dataframe tbody tr th {\n",
       "        vertical-align: top;\n",
       "    }\n",
       "\n",
       "    .dataframe thead th {\n",
       "        text-align: right;\n",
       "    }\n",
       "</style>\n",
       "<table border=\"1\" class=\"dataframe\">\n",
       "  <thead>\n",
       "    <tr style=\"text-align: right;\">\n",
       "      <th></th>\n",
       "      <th>0</th>\n",
       "      <th>1</th>\n",
       "    </tr>\n",
       "  </thead>\n",
       "  <tbody>\n",
       "    <tr>\n",
       "      <th>0</th>\n",
       "      <td>6.2</td>\n",
       "      <td>29</td>\n",
       "    </tr>\n",
       "    <tr>\n",
       "      <th>1</th>\n",
       "      <td>9.5</td>\n",
       "      <td>44</td>\n",
       "    </tr>\n",
       "    <tr>\n",
       "      <th>2</th>\n",
       "      <td>10.5</td>\n",
       "      <td>36</td>\n",
       "    </tr>\n",
       "    <tr>\n",
       "      <th>3</th>\n",
       "      <td>7.7</td>\n",
       "      <td>37</td>\n",
       "    </tr>\n",
       "    <tr>\n",
       "      <th>4</th>\n",
       "      <td>8.6</td>\n",
       "      <td>53</td>\n",
       "    </tr>\n",
       "  </tbody>\n",
       "</table>\n",
       "</div>"
      ],
      "text/plain": [
       "      0   1\n",
       "0   6.2  29\n",
       "1   9.5  44\n",
       "2  10.5  36\n",
       "3   7.7  37\n",
       "4   8.6  53"
      ]
     },
     "execution_count": 13,
     "metadata": {},
     "output_type": "execute_result"
    }
   ],
   "source": [
    "import numpy as np\n",
    "import pandas as pd\n",
    "from sklearn.linear_model import LinearRegression\n",
    "import matplotlib.pyplot as plt\n",
    "%matplotlib inline\n",
    "\n",
    "data = pd.read_csv(\"fires_thefts.csv\", header=None)\n",
    "data_array = data.to_numpy()\n",
    "data.head()"
   ]
  },
  {
   "cell_type": "code",
   "execution_count": 40,
   "metadata": {},
   "outputs": [
    {
     "data": {
      "text/plain": [
       "array([[ 6.2],\n",
       "       [ 9.5],\n",
       "       [10.5],\n",
       "       [ 7.7],\n",
       "       [ 8.6],\n",
       "       [34.1],\n",
       "       [11. ],\n",
       "       [ 6.9],\n",
       "       [ 7.3],\n",
       "       [15.1],\n",
       "       [29.1],\n",
       "       [ 2.2],\n",
       "       [ 5.7],\n",
       "       [ 2. ],\n",
       "       [ 2.5],\n",
       "       [ 4. ],\n",
       "       [ 5.4],\n",
       "       [ 2.2],\n",
       "       [ 7.2],\n",
       "       [15.1],\n",
       "       [16.5],\n",
       "       [18.4],\n",
       "       [36.2],\n",
       "       [39.7],\n",
       "       [18.5],\n",
       "       [23.3],\n",
       "       [12.2],\n",
       "       [ 5.6],\n",
       "       [21.8],\n",
       "       [21.6],\n",
       "       [ 9. ],\n",
       "       [ 3.6],\n",
       "       [ 5. ],\n",
       "       [28.6],\n",
       "       [17.4],\n",
       "       [11.3],\n",
       "       [ 3.4],\n",
       "       [11.9],\n",
       "       [10.5],\n",
       "       [10.7],\n",
       "       [10.8],\n",
       "       [ 4.8]])"
      ]
     },
     "execution_count": 40,
     "metadata": {},
     "output_type": "execute_result"
    }
   ],
   "source": [
    "x = data_array[:, 0]\n",
    "x = x.reshape(-1, 1)\n",
    "x"
   ]
  },
  {
   "cell_type": "code",
   "execution_count": 41,
   "metadata": {},
   "outputs": [
    {
     "data": {
      "text/plain": [
       "array([[ 29.],\n",
       "       [ 44.],\n",
       "       [ 36.],\n",
       "       [ 37.],\n",
       "       [ 53.],\n",
       "       [ 68.],\n",
       "       [ 75.],\n",
       "       [ 18.],\n",
       "       [ 31.],\n",
       "       [ 25.],\n",
       "       [ 34.],\n",
       "       [ 14.],\n",
       "       [ 11.],\n",
       "       [ 11.],\n",
       "       [ 22.],\n",
       "       [ 16.],\n",
       "       [ 27.],\n",
       "       [  9.],\n",
       "       [ 29.],\n",
       "       [ 30.],\n",
       "       [ 40.],\n",
       "       [ 32.],\n",
       "       [ 41.],\n",
       "       [147.],\n",
       "       [ 22.],\n",
       "       [ 29.],\n",
       "       [ 46.],\n",
       "       [ 23.],\n",
       "       [  4.],\n",
       "       [ 31.],\n",
       "       [ 39.],\n",
       "       [ 15.],\n",
       "       [ 32.],\n",
       "       [ 27.],\n",
       "       [ 32.],\n",
       "       [ 34.],\n",
       "       [ 17.],\n",
       "       [ 46.],\n",
       "       [ 42.],\n",
       "       [ 43.],\n",
       "       [ 34.],\n",
       "       [ 19.]])"
      ]
     },
     "execution_count": 41,
     "metadata": {},
     "output_type": "execute_result"
    }
   ],
   "source": [
    "y = data_array[:, 1]\n",
    "y = y.reshape(-1, 1)\n",
    "y"
   ]
  },
  {
   "cell_type": "code",
   "execution_count": 42,
   "metadata": {},
   "outputs": [
    {
     "data": {
      "image/png": "[encoded data removed]",
      "text/plain": [
       "<Figure size 432x288 with 1 Axes>"
      ]
     },
     "metadata": {
      "needs_background": "light"
     },
     "output_type": "display_data"
    }
   ],
   "source": [
    "plt.plot(x, y, 'bo')\n",
    "plt.title('Fires vs Thefts')\n",
    "plt.xlabel('Fires per 1000 households')\n",
    "plt.ylabel('Thefts per 1000 households')\n",
    "plt.show()"
   ]
  },
  {
   "cell_type": "code",
   "execution_count": 43,
   "metadata": {},
   "outputs": [
    {
     "data": {
      "text/plain": [
       "0.3037346895973584"
      ]
     },
     "execution_count": 43,
     "metadata": {},
     "output_type": "execute_result"
    }
   ],
   "source": [
    "reg = LinearRegression().fit(x, y)\n",
    "reg.score(x, y)"
   ]
  },
  {
   "cell_type": "code",
   "execution_count": 44,
   "metadata": {},
   "outputs": [
    {
     "data": {
      "text/plain": [
       "array([[1.313456]])"
      ]
     },
     "execution_count": 44,
     "metadata": {},
     "output_type": "execute_result"
    }
   ],
   "source": [
    "reg.coef_"
   ]
  },
  {
   "cell_type": "code",
   "execution_count": null,
   "metadata": {},
   "outputs": [],
   "source": []
  },
  {
   "cell_type": "code",
   "execution_count": null,
   "metadata": {},
   "outputs": [],
   "source": []
  },
  {
   "cell_type": "code",
   "execution_count": null,
   "metadata": {},
   "outputs": [],
   "source": []
  },
  {
   "cell_type": "code",
   "execution_count": null,
   "metadata": {},
   "outputs": [],
   "source": []
  },
  {
   "cell_type": "code",
   "execution_count": null,
   "metadata": {},
   "outputs": [],
   "source": [
    ">>> import numpy as np\n",
    ">>> \n",
    ">>> X = np.array([[1, 1], [1, 2], [2, 2], [2, 3]])\n",
    ">>> # y = 1 * x_0 + 2 * x_1 + 3\n",
    ">>> y = np.dot(X, np.array([1, 2])) + 3\n",
    ">>> reg = LinearRegression().fit(X, y)\n",
    ">>> reg.score(X, y)\n",
    "1.0\n",
    ">>> reg.coef_\n",
    "array([1., 2.])\n",
    ">>> reg.intercept_\n",
    "3.0000...\n",
    ">>> reg.predict(np.array([[3, 5]]))\n",
    "array([16.])"
   ]
  },
  {
   "cell_type": "code",
   "execution_count": null,
   "metadata": {},
   "outputs": [],
   "source": []
  }
 ],
 "metadata": {
  "kernelspec": {
   "display_name": "Python 3",
   "language": "python",
   "name": "python3"
  },
  "language_info": {
   "codemirror_mode": {
    "name": "ipython",
    "version": 3
   },
   "file_extension": ".py",
   "mimetype": "text/x-python",
   "name": "python",
   "nbconvert_exporter": "python",
   "pygments_lexer": "ipython3",
   "version": "3.8.3"
  }
 },
 "nbformat": 4,
 "nbformat_minor": 4
}
